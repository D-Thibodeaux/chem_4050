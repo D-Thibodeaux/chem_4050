{
 "cells": [
  {
   "cell_type": "code",
   "execution_count": 1,
   "id": "cd9dd3eb-f861-4ef4-86dd-6810def02659",
   "metadata": {},
   "outputs": [],
   "source": [
    "import numpy as np"
   ]
  },
  {
   "cell_type": "code",
   "execution_count": 2,
   "id": "f2b72065-d636-402c-996b-31caf6faedbc",
   "metadata": {},
   "outputs": [],
   "source": [
    "grid = np.array([[1,2,3],[4,5,6],[7,8,9],[10,11,12]])"
   ]
  },
  {
   "cell_type": "code",
   "execution_count": 3,
   "id": "f4347d66-6b64-4333-a796-466b00f23b42",
   "metadata": {},
   "outputs": [
    {
     "data": {
      "text/plain": [
       "array([[ 1,  2,  3],\n",
       "       [ 4,  5,  6],\n",
       "       [ 7,  8,  9],\n",
       "       [10, 11, 12]])"
      ]
     },
     "execution_count": 3,
     "metadata": {},
     "output_type": "execute_result"
    }
   ],
   "source": [
    "grid"
   ]
  },
  {
   "cell_type": "code",
   "execution_count": 4,
   "id": "cd6970ac-8026-4f70-93fe-65a39700f928",
   "metadata": {},
   "outputs": [
    {
     "name": "stdout",
     "output_type": "stream",
     "text": [
      "3\n"
     ]
    }
   ],
   "source": [
    "print(grid[0,2])"
   ]
  },
  {
   "cell_type": "code",
   "execution_count": 5,
   "id": "4ad23c52-10d3-40a4-baa3-f6acacd450fb",
   "metadata": {},
   "outputs": [
    {
     "name": "stdout",
     "output_type": "stream",
     "text": [
      "[ 2  5  8 11]\n"
     ]
    }
   ],
   "source": [
    "print(grid[:,1])"
   ]
  },
  {
   "cell_type": "code",
   "execution_count": 6,
   "id": "dd0dbbce-68c0-4c92-80b3-0a31fa3928ad",
   "metadata": {},
   "outputs": [],
   "source": [
    "grid = np.reshape(grid, (1,-1))"
   ]
  },
  {
   "cell_type": "code",
   "execution_count": 7,
   "id": "dc68f750-f2a2-4425-9eae-23be59316619",
   "metadata": {},
   "outputs": [
    {
     "data": {
      "text/plain": [
       "array([[ 1,  2,  3,  4,  5,  6,  7,  8,  9, 10, 11, 12]])"
      ]
     },
     "execution_count": 7,
     "metadata": {},
     "output_type": "execute_result"
    }
   ],
   "source": [
    "grid"
   ]
  },
  {
   "cell_type": "code",
   "execution_count": 8,
   "id": "517bbd19-f442-4c44-acdb-30fd0c4415a9",
   "metadata": {},
   "outputs": [],
   "source": [
    "bonus = np.array([13,14,15,16])"
   ]
  },
  {
   "cell_type": "code",
   "execution_count": 11,
   "id": "d75a2c03-3250-42ca-be6b-5042cb1ed453",
   "metadata": {},
   "outputs": [
    {
     "data": {
      "text/plain": [
       "array([13, 14, 15, 16])"
      ]
     },
     "execution_count": 11,
     "metadata": {},
     "output_type": "execute_result"
    }
   ],
   "source": [
    "bonus"
   ]
  },
  {
   "cell_type": "code",
   "execution_count": 12,
   "id": "10e6049e-537f-402d-ac35-6548af0e6094",
   "metadata": {},
   "outputs": [],
   "source": [
    "bonus = np.reshape(bonus, (2,2))"
   ]
  },
  {
   "cell_type": "code",
   "execution_count": 13,
   "id": "da60a6ab-1b83-4d10-85b9-989b85f61cef",
   "metadata": {},
   "outputs": [],
   "source": [
    "bonus = np.reshape(bonus, (1,-1))"
   ]
  },
  {
   "cell_type": "code",
   "execution_count": 14,
   "id": "f5283ad7-6771-4278-bf4c-2d494aaf3e0c",
   "metadata": {},
   "outputs": [
    {
     "data": {
      "text/plain": [
       "array([[13, 14, 15, 16]])"
      ]
     },
     "execution_count": 14,
     "metadata": {},
     "output_type": "execute_result"
    }
   ],
   "source": [
    "bonus"
   ]
  },
  {
   "cell_type": "code",
   "execution_count": 16,
   "id": "10afb730-5908-44e0-8db8-2611413a1ac3",
   "metadata": {},
   "outputs": [],
   "source": [
    "M = np.array([[1,2],[3,4]])"
   ]
  },
  {
   "cell_type": "code",
   "execution_count": 17,
   "id": "176ee9f5-ef01-4aa3-8db1-a1cab10d6f80",
   "metadata": {},
   "outputs": [],
   "source": [
    "v1 = np.array([[1],[2]])"
   ]
  },
  {
   "cell_type": "code",
   "execution_count": 18,
   "id": "86e08ea2-3733-4b9d-9fa6-4463b5de6382",
   "metadata": {},
   "outputs": [
    {
     "data": {
      "text/plain": [
       "array([[ 5],\n",
       "       [11]])"
      ]
     },
     "execution_count": 18,
     "metadata": {},
     "output_type": "execute_result"
    }
   ],
   "source": [
    "M@v1"
   ]
  },
  {
   "cell_type": "code",
   "execution_count": 19,
   "id": "3fdaaf13-def9-4320-ab06-3fbbac5e53ed",
   "metadata": {},
   "outputs": [
    {
     "data": {
      "text/plain": [
       "array([[ 5],\n",
       "       [11]])"
      ]
     },
     "execution_count": 19,
     "metadata": {},
     "output_type": "execute_result"
    }
   ],
   "source": [
    "np.matmul(M,v1)"
   ]
  },
  {
   "cell_type": "code",
   "execution_count": 20,
   "id": "66a269aa-383e-4fa0-852e-27ffd322bbfe",
   "metadata": {},
   "outputs": [],
   "source": [
    "v = np.array([1,2,3])\n",
    "w = np.array([4,5,6])"
   ]
  },
  {
   "cell_type": "code",
   "execution_count": 21,
   "id": "1fe7823b-3106-497b-b2db-73e49d0d1575",
   "metadata": {},
   "outputs": [
    {
     "data": {
      "text/plain": [
       "np.int64(32)"
      ]
     },
     "execution_count": 21,
     "metadata": {},
     "output_type": "execute_result"
    }
   ],
   "source": [
    "v.dot(w)"
   ]
  },
  {
   "cell_type": "code",
   "execution_count": 22,
   "id": "89cf208b-6035-4793-96c7-aa2e6ff6f06b",
   "metadata": {},
   "outputs": [
    {
     "data": {
      "text/plain": [
       "array([[1, 2],\n",
       "       [3, 4]])"
      ]
     },
     "execution_count": 22,
     "metadata": {},
     "output_type": "execute_result"
    }
   ],
   "source": [
    "M"
   ]
  },
  {
   "cell_type": "code",
   "execution_count": null,
   "id": "91d9b633-7cb3-4765-aeaa-09d3e4531c4a",
   "metadata": {},
   "outputs": [],
   "source": []
  },
  {
   "cell_type": "code",
   "execution_count": 23,
   "id": "cc668eef-aac3-4ed4-9970-c1daffb5fa65",
   "metadata": {},
   "outputs": [],
   "source": [
    "det = np.linalg.det(M)"
   ]
  },
  {
   "cell_type": "code",
   "execution_count": 24,
   "id": "104de906-0b9c-43f9-a48c-d200b10f9701",
   "metadata": {},
   "outputs": [
    {
     "data": {
      "text/plain": [
       "np.float64(-2.0000000000000004)"
      ]
     },
     "execution_count": 24,
     "metadata": {},
     "output_type": "execute_result"
    }
   ],
   "source": [
    "det"
   ]
  },
  {
   "cell_type": "code",
   "execution_count": 26,
   "id": "ea91e5fa-c94c-482f-a3b2-6b7b1637bd15",
   "metadata": {},
   "outputs": [
    {
     "data": {
      "text/plain": [
       "np.int64(3)"
      ]
     },
     "execution_count": 26,
     "metadata": {},
     "output_type": "execute_result"
    }
   ],
   "source": [
    "M.argmax()"
   ]
  },
  {
   "cell_type": "code",
   "execution_count": 27,
   "id": "3401a32f-d6e7-491b-b2d2-a8fe9b7fd091",
   "metadata": {},
   "outputs": [],
   "source": [
    "invert = np.linalg.inv(M)"
   ]
  },
  {
   "cell_type": "code",
   "execution_count": 28,
   "id": "58f28491-da0f-4057-8eda-69338908e0b0",
   "metadata": {},
   "outputs": [
    {
     "data": {
      "text/plain": [
       "array([[-2. ,  1. ],\n",
       "       [ 1.5, -0.5]])"
      ]
     },
     "execution_count": 28,
     "metadata": {},
     "output_type": "execute_result"
    }
   ],
   "source": [
    "invert"
   ]
  },
  {
   "cell_type": "code",
   "execution_count": 29,
   "id": "038b1752-0861-46fe-9a08-f8ccf8654d73",
   "metadata": {},
   "outputs": [],
   "source": [
    "eigen = np.linalg.eigvals(M)"
   ]
  },
  {
   "cell_type": "code",
   "execution_count": 30,
   "id": "7c124f6b-3b76-4ad8-9b82-9f9463413e0c",
   "metadata": {},
   "outputs": [
    {
     "name": "stdout",
     "output_type": "stream",
     "text": [
      "[-0.37228132  5.37228132]\n"
     ]
    }
   ],
   "source": [
    "print(eigen)"
   ]
  },
  {
   "cell_type": "code",
   "execution_count": 31,
   "id": "585740e9-92fe-498a-a012-a8e5d0de1481",
   "metadata": {},
   "outputs": [],
   "source": [
    "import matplotlib.pyplot as plt"
   ]
  },
  {
   "cell_type": "code",
   "execution_count": 39,
   "id": "8959e1d7-7de8-4726-acb3-0752bb49073a",
   "metadata": {},
   "outputs": [],
   "source": [
    "x = np.random.rand(100)\n",
    "y = np.random.rand(100)"
   ]
  },
  {
   "cell_type": "code",
   "execution_count": 34,
   "id": "6265857f-3a0a-48f5-9c92-fb801f336199",
   "metadata": {},
   "outputs": [
    {
     "name": "stdout",
     "output_type": "stream",
     "text": [
      "[0.79252113 0.29059001 0.2373024  0.55021753 0.23415194 0.62685877\n",
      " 0.32104247 0.77681032 0.22350273 0.33761947 0.18023664 0.64062957\n",
      " 0.64131084 0.09878677 0.60175421 0.89589498 0.47543778 0.82194009\n",
      " 0.84389163 0.29350583 0.56309391 0.33592614 0.98153052 0.35522986\n",
      " 0.30312911 0.1525946  0.21594566 0.93081464 0.1456797  0.3874408\n",
      " 0.70044187 0.22227816 0.04244701 0.06805928 0.06052834 0.86961413\n",
      " 0.45085449 0.70562227 0.62129137 0.57805996 0.81967301 0.99175132\n",
      " 0.76777311 0.57388823 0.29344945 0.33233063 0.41828361 0.82510451\n",
      " 0.12467613 0.54460591 0.26975079 0.86074266 0.62816828 0.9439322\n",
      " 0.18481275 0.65661478 0.52025759 0.41100782 0.36881133 0.93777204\n",
      " 0.79064767 0.99092494 0.12361209 0.90899135 0.6943043  0.44326487\n",
      " 0.02435031 0.04066285 0.55924219 0.34175308 0.42627293 0.78887536\n",
      " 0.10850227 0.49268354 0.9696668  0.88894882 0.90564339 0.29430353\n",
      " 0.24853721 0.54728633 0.60650034 0.41866898 0.64923403 0.4912015\n",
      " 0.47666255 0.35034071 0.95975968 0.72939831 0.64254756 0.89148864\n",
      " 0.66282249 0.57573956 0.27734612 0.76070082 0.15719741 0.40957474\n",
      " 0.0299122  0.55276577 0.41685464 0.51768891]\n",
      "[0.71499925 0.85047008 0.18484521 0.50677547 0.67604048 0.1302212\n",
      " 0.57520934 0.43683514 0.81247091 0.33878064 0.67990876 0.15610047\n",
      " 0.31400347 0.39493443 0.91528882 0.85305796 0.82315681 0.12231795\n",
      " 0.43245119 0.66581846 0.60177442 0.44212283 0.06504405 0.99909737\n",
      " 0.53034777 0.83239546 0.33131137 0.80894091 0.56693197 0.23996496\n",
      " 0.12454197 0.54378361 0.36232562 0.68434271 0.73008762 0.21796295\n",
      " 0.89258262 0.82009095 0.57008881 0.20746694 0.26146457 0.79286262\n",
      " 0.33083019 0.7957142  0.46288867 0.56698713 0.33405356 0.80094989\n",
      " 0.9153212  0.92163688 0.15783976 0.69741874 0.20436516 0.10629044\n",
      " 0.56941788 0.12113734 0.66105222 0.66385981 0.50224462 0.61318426\n",
      " 0.26562362 0.30913871 0.36484818 0.34826292 0.63193554 0.90404749\n",
      " 0.13047188 0.64705837 0.8131189  0.26021751 0.14227869 0.09239742\n",
      " 0.41549097 0.08101105 0.23135097 0.95113553 0.02236364 0.66402693\n",
      " 0.51082188 0.22366656 0.68164198 0.33776765 0.72637072 0.34943378\n",
      " 0.71487527 0.0266139  0.91209128 0.70072206 0.06992271 0.73595532\n",
      " 0.96151525 0.79208382 0.5632301  0.15480132 0.6760441  0.29465846\n",
      " 0.01473736 0.48364787 0.02490273 0.78086968]\n"
     ]
    }
   ],
   "source": [
    "print(x)\n",
    "print(y)"
   ]
  },
  {
   "cell_type": "code",
   "execution_count": 44,
   "id": "72404058-4e72-4ed6-b70a-b098ba80b9ee",
   "metadata": {},
   "outputs": [
    {
     "data": {
      "text/plain": [
       "<matplotlib.colorbar.Colorbar at 0x7f14dc22d6d0>"
      ]
     },
     "execution_count": 44,
     "metadata": {},
     "output_type": "execute_result"
    },
    {
     "data": {
      "image/png": "[encoded data removed]",
      "text/plain": [
       "<Figure size 640x480 with 2 Axes>"
      ]
     },
     "metadata": {},
     "output_type": "display_data"
    }
   ],
   "source": [
    "x = np.random.rand(100)\n",
    "y = np.random.rand(100)\n",
    "Z = np.random.rand(100)\n",
    "w =  np.random.normal(size = 100)\n",
    "plt.scatter(x,y, s = Z*100, c = w)\n",
    "plt.xlabel('X')\n",
    "plt.ylabel('Y')\n",
    "plt.colorbar()"
   ]
  },
  {
   "cell_type": "code",
   "execution_count": 49,
   "id": "a3fb74ba-33ea-4f60-8e78-3799eb3ce832",
   "metadata": {},
   "outputs": [
    {
     "data": {
      "text/plain": [
       "[<matplotlib.lines.Line2D at 0x7f14d809f950>]"
      ]
     },
     "execution_count": 49,
     "metadata": {},
     "output_type": "execute_result"
    },
    {
     "data": {
      "image/png": "[encoded data removed]",
      "text/plain": [
       "<Figure size 640x480 with 1 Axes>"
      ]
     },
     "metadata": {},
     "output_type": "display_data"
    }
   ],
   "source": [
    "x = np.linspace(0,10,101)\n",
    "y = np.cos(x)\n",
    "plt.xlabel('x')\n",
    "plt.ylabel('cos(x)')\n",
    "plt.plot(x,y)"
   ]
  },
  {
   "cell_type": "code",
   "execution_count": 60,
   "id": "f96cd67d-9641-427b-8a9e-04eb95c3b838",
   "metadata": {},
   "outputs": [
    {
     "data": {
      "text/plain": [
       "(array([  1.,   0.,   0.,   0.,   0.,   0.,   0.,   0.,   0.,   0.,   1.,\n",
       "          0.,   1.,   0.,   2.,   0.,   3.,   2.,   3.,   5.,   3.,   3.,\n",
       "          8.,   5.,  10.,  12.,  23.,  17.,  35.,  33.,  36.,  42.,  56.,\n",
       "         61.,  85.,  74.,  97., 111., 113., 135., 138., 142., 164., 184.,\n",
       "        202., 216., 230., 224., 270., 283., 298., 318., 306., 307., 329.,\n",
       "        310., 333., 341., 300., 325., 299., 330., 324., 267., 248., 223.,\n",
       "        204., 229., 221., 167., 138., 151., 159., 108., 110.,  88.,  81.,\n",
       "         66.,  59.,  64.,  48.,  35.,  30.,  33.,  25.,  24.,  12.,  14.,\n",
       "         10.,   6.,   9.,   6.,   6.,   4.,   0.,   2.,   2.,   0.,   0.,\n",
       "          1.]),\n",
       " array([-4.55133038, -4.47038156, -4.38943275, -4.30848394, -4.22753513,\n",
       "        -4.14658631, -4.0656375 , -3.98468869, -3.90373987, -3.82279106,\n",
       "        -3.74184225, -3.66089343, -3.57994462, -3.49899581, -3.41804699,\n",
       "        -3.33709818, -3.25614937, -3.17520056, -3.09425174, -3.01330293,\n",
       "        -2.93235412, -2.8514053 , -2.77045649, -2.68950768, -2.60855886,\n",
       "        -2.52761005, -2.44666124, -2.36571242, -2.28476361, -2.2038148 ,\n",
       "        -2.12286599, -2.04191717, -1.96096836, -1.88001955, -1.79907073,\n",
       "        -1.71812192, -1.63717311, -1.55622429, -1.47527548, -1.39432667,\n",
       "        -1.31337785, -1.23242904, -1.15148023, -1.07053142, -0.9895826 ,\n",
       "        -0.90863379, -0.82768498, -0.74673616, -0.66578735, -0.58483854,\n",
       "        -0.50388972, -0.42294091, -0.3419921 , -0.26104328, -0.18009447,\n",
       "        -0.09914566, -0.01819685,  0.06275197,  0.14370078,  0.22464959,\n",
       "         0.30559841,  0.38654722,  0.46749603,  0.54844485,  0.62939366,\n",
       "         0.71034247,  0.79129129,  0.8722401 ,  0.95318891,  1.03413772,\n",
       "         1.11508654,  1.19603535,  1.27698416,  1.35793298,  1.43888179,\n",
       "         1.5198306 ,  1.60077942,  1.68172823,  1.76267704,  1.84362586,\n",
       "         1.92457467,  2.00552348,  2.08647229,  2.16742111,  2.24836992,\n",
       "         2.32931873,  2.41026755,  2.49121636,  2.57216517,  2.65311399,\n",
       "         2.7340628 ,  2.81501161,  2.89596043,  2.97690924,  3.05785805,\n",
       "         3.13880686,  3.21975568,  3.30070449,  3.3816533 ,  3.46260212,\n",
       "         3.54355093]),\n",
       " <BarContainer object of 100 artists>)"
      ]
     },
     "execution_count": 60,
     "metadata": {},
     "output_type": "execute_result"
    },
    {
     "data": {
      "image/png": "[encoded data removed]",
      "text/plain": [
       "<Figure size 640x480 with 1 Axes>"
      ]
     },
     "metadata": {},
     "output_type": "display_data"
    }
   ],
   "source": [
    "plt.hist(np.random.randn(10000), bins = 100)"
   ]
  },
  {
   "cell_type": "code",
   "execution_count": 61,
   "id": "7d496182-e718-4348-9e11-10a1bd93d744",
   "metadata": {},
   "outputs": [],
   "source": [
    "import pandas as pd"
   ]
  },
  {
   "cell_type": "code",
   "execution_count": 62,
   "id": "7817b966-461e-4299-b4b8-799fc71b862d",
   "metadata": {},
   "outputs": [],
   "source": [
    "df = pd.read_csv(\"data.csv\")"
   ]
  },
  {
   "cell_type": "code",
   "execution_count": 63,
   "id": "1c7abcc9-770c-4394-a805-362f38ef2d74",
   "metadata": {},
   "outputs": [
    {
     "data": {
      "text/html": [
       "<div>\n",
       "<style scoped>\n",
       "    .dataframe tbody tr th:only-of-type {\n",
       "        vertical-align: middle;\n",
       "    }\n",
       "\n",
       "    .dataframe tbody tr th {\n",
       "        vertical-align: top;\n",
       "    }\n",
       "\n",
       "    .dataframe thead th {\n",
       "        text-align: right;\n",
       "    }\n",
       "</style>\n",
       "<table border=\"1\" class=\"dataframe\">\n",
       "  <thead>\n",
       "    <tr style=\"text-align: right;\">\n",
       "      <th></th>\n",
       "      <th>Element</th>\n",
       "      <th>Per Mole</th>\n",
       "      <th>Per Atom</th>\n",
       "      <th>Per Mole Unit</th>\n",
       "      <th>Per Atom Unit</th>\n",
       "    </tr>\n",
       "  </thead>\n",
       "  <tbody>\n",
       "    <tr>\n",
       "      <th>0</th>\n",
       "      <td>Actinium</td>\n",
       "      <td>410.00</td>\n",
       "      <td>4.25</td>\n",
       "      <td>kJ/mol</td>\n",
       "      <td>eV/atom</td>\n",
       "    </tr>\n",
       "    <tr>\n",
       "      <th>1</th>\n",
       "      <td>Aluminum</td>\n",
       "      <td>327.00</td>\n",
       "      <td>3.39</td>\n",
       "      <td>kJ/mol</td>\n",
       "      <td>eV/atom</td>\n",
       "    </tr>\n",
       "    <tr>\n",
       "      <th>2</th>\n",
       "      <td>Americium</td>\n",
       "      <td>264.00</td>\n",
       "      <td>2.73</td>\n",
       "      <td>kJ/mol</td>\n",
       "      <td>eV/atom</td>\n",
       "    </tr>\n",
       "    <tr>\n",
       "      <th>3</th>\n",
       "      <td>Antimony</td>\n",
       "      <td>265.00</td>\n",
       "      <td>2.75</td>\n",
       "      <td>kJ/mol</td>\n",
       "      <td>eV/atom</td>\n",
       "    </tr>\n",
       "    <tr>\n",
       "      <th>4</th>\n",
       "      <td>Argon</td>\n",
       "      <td>7.74</td>\n",
       "      <td>0.08</td>\n",
       "      <td>kJ/mol</td>\n",
       "      <td>eV/atom</td>\n",
       "    </tr>\n",
       "    <tr>\n",
       "      <th>...</th>\n",
       "      <td>...</td>\n",
       "      <td>...</td>\n",
       "      <td>...</td>\n",
       "      <td>...</td>\n",
       "      <td>...</td>\n",
       "    </tr>\n",
       "    <tr>\n",
       "      <th>85</th>\n",
       "      <td>Xenon</td>\n",
       "      <td>15.90</td>\n",
       "      <td>0.16</td>\n",
       "      <td>kJ/mol</td>\n",
       "      <td>eV/atom</td>\n",
       "    </tr>\n",
       "    <tr>\n",
       "      <th>86</th>\n",
       "      <td>Ytterbium</td>\n",
       "      <td>154.00</td>\n",
       "      <td>1.60</td>\n",
       "      <td>kJ/mol</td>\n",
       "      <td>eV/atom</td>\n",
       "    </tr>\n",
       "    <tr>\n",
       "      <th>87</th>\n",
       "      <td>Yttrium</td>\n",
       "      <td>422.00</td>\n",
       "      <td>4.37</td>\n",
       "      <td>kJ/mol</td>\n",
       "      <td>eV/atom</td>\n",
       "    </tr>\n",
       "    <tr>\n",
       "      <th>88</th>\n",
       "      <td>Zinc</td>\n",
       "      <td>130.00</td>\n",
       "      <td>1.35</td>\n",
       "      <td>kJ/mol</td>\n",
       "      <td>eV/atom</td>\n",
       "    </tr>\n",
       "    <tr>\n",
       "      <th>89</th>\n",
       "      <td>Zirconium</td>\n",
       "      <td>603.00</td>\n",
       "      <td>6.25</td>\n",
       "      <td>kJ/mol</td>\n",
       "      <td>eV/atom</td>\n",
       "    </tr>\n",
       "  </tbody>\n",
       "</table>\n",
       "<p>90 rows × 5 columns</p>\n",
       "</div>"
      ],
      "text/plain": [
       "      Element  Per Mole  Per Atom Per Mole Unit Per Atom Unit\n",
       "0    Actinium    410.00      4.25        kJ/mol       eV/atom\n",
       "1    Aluminum    327.00      3.39        kJ/mol       eV/atom\n",
       "2   Americium    264.00      2.73        kJ/mol       eV/atom\n",
       "3    Antimony    265.00      2.75        kJ/mol       eV/atom\n",
       "4       Argon      7.74      0.08        kJ/mol       eV/atom\n",
       "..        ...       ...       ...           ...           ...\n",
       "85      Xenon     15.90      0.16        kJ/mol       eV/atom\n",
       "86  Ytterbium    154.00      1.60        kJ/mol       eV/atom\n",
       "87    Yttrium    422.00      4.37        kJ/mol       eV/atom\n",
       "88       Zinc    130.00      1.35        kJ/mol       eV/atom\n",
       "89  Zirconium    603.00      6.25        kJ/mol       eV/atom\n",
       "\n",
       "[90 rows x 5 columns]"
      ]
     },
     "execution_count": 63,
     "metadata": {},
     "output_type": "execute_result"
    }
   ],
   "source": [
    "df"
   ]
  },
  {
   "cell_type": "code",
   "execution_count": 64,
   "id": "12aa880d-85e4-427e-9c91-8fc4c0a9e58c",
   "metadata": {},
   "outputs": [
    {
     "data": {
      "text/html": [
       "<div>\n",
       "<style scoped>\n",
       "    .dataframe tbody tr th:only-of-type {\n",
       "        vertical-align: middle;\n",
       "    }\n",
       "\n",
       "    .dataframe tbody tr th {\n",
       "        vertical-align: top;\n",
       "    }\n",
       "\n",
       "    .dataframe thead th {\n",
       "        text-align: right;\n",
       "    }\n",
       "</style>\n",
       "<table border=\"1\" class=\"dataframe\">\n",
       "  <thead>\n",
       "    <tr style=\"text-align: right;\">\n",
       "      <th></th>\n",
       "      <th>Element</th>\n",
       "      <th>Per Mole</th>\n",
       "      <th>Per Atom</th>\n",
       "      <th>Per Mole Unit</th>\n",
       "      <th>Per Atom Unit</th>\n",
       "    </tr>\n",
       "  </thead>\n",
       "  <tbody>\n",
       "    <tr>\n",
       "      <th>4</th>\n",
       "      <td>Argon</td>\n",
       "      <td>7.74</td>\n",
       "      <td>0.080</td>\n",
       "      <td>kJ/mol</td>\n",
       "      <td>eV/atom</td>\n",
       "    </tr>\n",
       "    <tr>\n",
       "      <th>15</th>\n",
       "      <td>Cesium</td>\n",
       "      <td>77.60</td>\n",
       "      <td>0.804</td>\n",
       "      <td>kJ/mol</td>\n",
       "      <td>eV/atom</td>\n",
       "    </tr>\n",
       "    <tr>\n",
       "      <th>24</th>\n",
       "      <td>Fluorine</td>\n",
       "      <td>81.00</td>\n",
       "      <td>0.840</td>\n",
       "      <td>kJ/mol</td>\n",
       "      <td>eV/atom</td>\n",
       "    </tr>\n",
       "    <tr>\n",
       "      <th>35</th>\n",
       "      <td>Krypton</td>\n",
       "      <td>11.20</td>\n",
       "      <td>0.116</td>\n",
       "      <td>kJ/mol</td>\n",
       "      <td>eV/atom</td>\n",
       "    </tr>\n",
       "    <tr>\n",
       "      <th>42</th>\n",
       "      <td>Mercury</td>\n",
       "      <td>65.00</td>\n",
       "      <td>0.670</td>\n",
       "      <td>kJ/mol</td>\n",
       "      <td>eV/atom</td>\n",
       "    </tr>\n",
       "    <tr>\n",
       "      <th>45</th>\n",
       "      <td>Neon</td>\n",
       "      <td>1.92</td>\n",
       "      <td>0.020</td>\n",
       "      <td>kJ/mol</td>\n",
       "      <td>eV/atom</td>\n",
       "    </tr>\n",
       "    <tr>\n",
       "      <th>57</th>\n",
       "      <td>Potassium</td>\n",
       "      <td>90.10</td>\n",
       "      <td>0.934</td>\n",
       "      <td>kJ/mol</td>\n",
       "      <td>eV/atom</td>\n",
       "    </tr>\n",
       "    <tr>\n",
       "      <th>60</th>\n",
       "      <td>Radon</td>\n",
       "      <td>19.50</td>\n",
       "      <td>0.202</td>\n",
       "      <td>kJ/mol</td>\n",
       "      <td>eV/atom</td>\n",
       "    </tr>\n",
       "    <tr>\n",
       "      <th>63</th>\n",
       "      <td>Rubidium</td>\n",
       "      <td>82.20</td>\n",
       "      <td>0.852</td>\n",
       "      <td>kJ/mol</td>\n",
       "      <td>eV/atom</td>\n",
       "    </tr>\n",
       "    <tr>\n",
       "      <th>85</th>\n",
       "      <td>Xenon</td>\n",
       "      <td>15.90</td>\n",
       "      <td>0.160</td>\n",
       "      <td>kJ/mol</td>\n",
       "      <td>eV/atom</td>\n",
       "    </tr>\n",
       "  </tbody>\n",
       "</table>\n",
       "</div>"
      ],
      "text/plain": [
       "      Element  Per Mole  Per Atom Per Mole Unit Per Atom Unit\n",
       "4       Argon      7.74     0.080        kJ/mol       eV/atom\n",
       "15     Cesium     77.60     0.804        kJ/mol       eV/atom\n",
       "24   Fluorine     81.00     0.840        kJ/mol       eV/atom\n",
       "35    Krypton     11.20     0.116        kJ/mol       eV/atom\n",
       "42    Mercury     65.00     0.670        kJ/mol       eV/atom\n",
       "45       Neon      1.92     0.020        kJ/mol       eV/atom\n",
       "57  Potassium     90.10     0.934        kJ/mol       eV/atom\n",
       "60      Radon     19.50     0.202        kJ/mol       eV/atom\n",
       "63   Rubidium     82.20     0.852        kJ/mol       eV/atom\n",
       "85      Xenon     15.90     0.160        kJ/mol       eV/atom"
      ]
     },
     "execution_count": 64,
     "metadata": {},
     "output_type": "execute_result"
    }
   ],
   "source": [
    "df[df[\"Per Atom\"] < 1]"
   ]
  },
  {
   "cell_type": "code",
   "execution_count": null,
   "id": "a106a93c-955c-47f2-84d1-3329c69beed0",
   "metadata": {},
   "outputs": [],
   "source": []
  }
 ],
 "metadata": {
  "kernelspec": {
   "display_name": "Python 3 (ipykernel)",
   "language": "python",
   "name": "python3"
  },
  "language_info": {
   "codemirror_mode": {
    "name": "ipython",
    "version": 3
   },
   "file_extension": ".py",
   "mimetype": "text/x-python",
   "name": "python",
   "nbconvert_exporter": "python",
   "pygments_lexer": "ipython3",
   "version": "3.12.4"
  }
 },
 "nbformat": 4,
 "nbformat_minor": 5
}
