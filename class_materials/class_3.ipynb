{
 "cells": [
  {
   "cell_type": "code",
   "execution_count": 2,
   "id": "5c5e797b-db4e-4d10-a906-e7ad2ad36ab3",
   "metadata": {},
   "outputs": [
    {
     "name": "stdout",
     "output_type": "stream",
     "text": [
      "yes\n"
     ]
    }
   ],
   "source": [
    "if x > 5:\n",
    "    print('yes')"
   ]
  },
  {
   "cell_type": "code",
   "execution_count": 3,
   "id": "cde3ddc4-9d94-4fcb-bdaa-d68a227acb94",
   "metadata": {},
   "outputs": [
    {
     "name": "stdout",
     "output_type": "stream",
     "text": [
      "1\n"
     ]
    }
   ],
   "source": [
    "print(x if x > 11 else (11-x))"
   ]
  },
  {
   "cell_type": "code",
   "execution_count": 20,
   "id": "b7d88bcc-7ae3-44b2-8750-91b02ba42950",
   "metadata": {},
   "outputs": [],
   "source": [
    "def number(x):\n",
    "    if x > 5:\n",
    "        print(f'{x} is greater than 5')\n",
    "    elif x == 5:\n",
    "        print(f'{x} is 5')\n",
    "    else:\n",
    "        print(f'{x} is less than 5')"
   ]
  },
  {
   "cell_type": "code",
   "execution_count": 14,
   "id": "3c669d6e-5f55-43ab-b555-1ed335498843",
   "metadata": {},
   "outputs": [
    {
     "name": "stdout",
     "output_type": "stream",
     "text": [
      "number is greater than 5\n"
     ]
    }
   ],
   "source": [
    "number(7)"
   ]
  },
  {
   "cell_type": "code",
   "execution_count": 15,
   "id": "b3b26fb9-754d-4053-b084-59aaf263e292",
   "metadata": {},
   "outputs": [],
   "source": [
    "import numpy as np\n",
    "d = np.random.rand(100)"
   ]
  },
  {
   "cell_type": "code",
   "execution_count": 29,
   "id": "7cc23e6f-2c6a-4df5-8758-ddeb74947f4f",
   "metadata": {},
   "outputs": [
    {
     "data": {
      "text/plain": [
       "['w', 'e', 'r']"
      ]
     },
     "execution_count": 29,
     "metadata": {},
     "output_type": "execute_result"
    }
   ],
   "source": [
    "fruits"
   ]
  },
  {
   "cell_type": "code",
   "execution_count": 30,
   "id": "6ebe0697-6d7f-44b4-bdbe-d58016106970",
   "metadata": {},
   "outputs": [],
   "source": [
    "lst = ['r','h','d']"
   ]
  },
  {
   "cell_type": "code",
   "execution_count": 31,
   "id": "9834328f-3a1a-443c-aacf-d9ae2b1b5639",
   "metadata": {},
   "outputs": [
    {
     "name": "stdout",
     "output_type": "stream",
     "text": [
      "w r\n",
      "e h\n",
      "r d\n"
     ]
    }
   ],
   "source": [
    "for f, l in zip(fruits,lst):\n",
    "    print(f,l)"
   ]
  },
  {
   "cell_type": "code",
   "execution_count": 32,
   "id": "c012199f-ac86-4c3f-b1d1-a4adfbb23ce3",
   "metadata": {},
   "outputs": [
    {
     "name": "stdout",
     "output_type": "stream",
     "text": [
      "('e', 'h')\n",
      "('r', 'd')\n",
      "('w', 'r')\n"
     ]
    }
   ],
   "source": [
    "for x in sorted(zip(fruits,lst)):\n",
    "    print(x)"
   ]
  },
  {
   "cell_type": "code",
   "execution_count": 36,
   "id": "debfa7a9-e781-42db-a0d3-5c74453ea69d",
   "metadata": {},
   "outputs": [],
   "source": [
    "import pandas as pd\n",
    "\n",
    "data = {\n",
    "    \"name\" : ['Alice','bob','charlie'],\n",
    "    'age' : [30,20,10]\n",
    "}\n",
    "\n",
    "df = pd.DataFrame(data, index = [1,2,3])"
   ]
  },
  {
   "cell_type": "code",
   "execution_count": 37,
   "id": "60369bc3-e699-4d77-96c6-1a9f8e69dafa",
   "metadata": {},
   "outputs": [
    {
     "data": {
      "text/html": [
       "<div>\n",
       "<style scoped>\n",
       "    .dataframe tbody tr th:only-of-type {\n",
       "        vertical-align: middle;\n",
       "    }\n",
       "\n",
       "    .dataframe tbody tr th {\n",
       "        vertical-align: top;\n",
       "    }\n",
       "\n",
       "    .dataframe thead th {\n",
       "        text-align: right;\n",
       "    }\n",
       "</style>\n",
       "<table border=\"1\" class=\"dataframe\">\n",
       "  <thead>\n",
       "    <tr style=\"text-align: right;\">\n",
       "      <th></th>\n",
       "      <th>name</th>\n",
       "      <th>age</th>\n",
       "    </tr>\n",
       "  </thead>\n",
       "  <tbody>\n",
       "    <tr>\n",
       "      <th>1</th>\n",
       "      <td>Alice</td>\n",
       "      <td>30</td>\n",
       "    </tr>\n",
       "    <tr>\n",
       "      <th>2</th>\n",
       "      <td>bob</td>\n",
       "      <td>20</td>\n",
       "    </tr>\n",
       "    <tr>\n",
       "      <th>3</th>\n",
       "      <td>charlie</td>\n",
       "      <td>10</td>\n",
       "    </tr>\n",
       "  </tbody>\n",
       "</table>\n",
       "</div>"
      ],
      "text/plain": [
       "      name  age\n",
       "1    Alice   30\n",
       "2      bob   20\n",
       "3  charlie   10"
      ]
     },
     "execution_count": 37,
     "metadata": {},
     "output_type": "execute_result"
    }
   ],
   "source": [
    "df"
   ]
  },
  {
   "cell_type": "code",
   "execution_count": 40,
   "id": "94e9fd09-5056-4ecf-8c80-cc12f50f3eb5",
   "metadata": {},
   "outputs": [
    {
     "name": "stdout",
     "output_type": "stream",
     "text": [
      "1 name    Alice\n",
      "age        30\n",
      "Name: 1, dtype: object\n",
      "2 name    bob\n",
      "age      20\n",
      "Name: 2, dtype: object\n",
      "3 name    charlie\n",
      "age          10\n",
      "Name: 3, dtype: object\n"
     ]
    }
   ],
   "source": [
    "for index, row in df.iterrows():\n",
    "    print(index, row)"
   ]
  },
  {
   "cell_type": "code",
   "execution_count": 46,
   "id": "d557a402-23dc-4173-8d94-f59cc44fba53",
   "metadata": {},
   "outputs": [],
   "source": [
    "def add(x,y):\n",
    "    summ = x + y\n",
    "    return summ"
   ]
  },
  {
   "cell_type": "code",
   "execution_count": 47,
   "id": "54363b3b-53f8-4627-ab9f-e76a1c37046a",
   "metadata": {},
   "outputs": [
    {
     "data": {
      "text/plain": [
       "3"
      ]
     },
     "execution_count": 47,
     "metadata": {},
     "output_type": "execute_result"
    }
   ],
   "source": [
    "add(1,2)"
   ]
  },
  {
   "cell_type": "code",
   "execution_count": 1,
   "id": "b8b05598-3bab-4f5a-8678-a20b56157f36",
   "metadata": {},
   "outputs": [],
   "source": [
    "def factorial(n):\n",
    "    if n == 0:\n",
    "        return 1\n",
    "    else:\n",
    "        value = 1\n",
    "        for x in range(n-1):\n",
    "            value = value * (n-x)\n",
    "        return value"
   ]
  },
  {
   "cell_type": "code",
   "execution_count": 11,
   "id": "d8e90dd3-c0a7-4bbc-a92d-09a2e6143009",
   "metadata": {},
   "outputs": [],
   "source": [
    "def pal_check(wrd):\n",
    "    if wrd == wrd[::-1]:\n",
    "        print(\"word is a palindrome\")\n",
    "    else:\n",
    "        print(\"word is not a palindrome\")\n"
   ]
  },
  {
   "cell_type": "code",
   "execution_count": 24,
   "id": "fa1e9a39-08aa-4164-adee-dd4d5d306ad8",
   "metadata": {},
   "outputs": [],
   "source": [
    "def fib(n):\n",
    "    if n == 0:\n",
    "        return []\n",
    "    elif n == 1:\n",
    "        return [0]\n",
    "    else:\n",
    "        seq = [0,1]\n",
    "        while len(seq) != n:\n",
    "            last = len(seq) - 1\n",
    "            seq.append(seq[last] + seq[last - 1])\n",
    "        return seq"
   ]
  },
  {
   "cell_type": "code",
   "execution_count": 27,
   "id": "453bdef0-6aa4-480e-8633-5b15f5d65fda",
   "metadata": {},
   "outputs": [],
   "source": [
    "def summ(ns):\n",
    "    val = 0\n",
    "    for n in ns:\n",
    "        val += n\n",
    "    return val"
   ]
  },
  {
   "cell_type": "code",
   "execution_count": 30,
   "id": "879617a5-746e-478a-bc9d-62d07ba94810",
   "metadata": {},
   "outputs": [],
   "source": [
    "def minmax(ns):\n",
    "    min = ns[0]\n",
    "    max = ns[0]\n",
    "    for n in ns:\n",
    "        if n < min: min = n\n",
    "        elif n > max: max = n\n",
    "    return (min,max)"
   ]
  },
  {
   "cell_type": "code",
   "execution_count": 10,
   "id": "c5ab32ac-81ee-4a28-b2d3-51b835f61d29",
   "metadata": {},
   "outputs": [],
   "source": [
    "def vowel_count(strg):\n",
    "    num = 0\n",
    "    vwls = ['a','e','i','o','u']\n",
    "    for char in strg.casefold():\n",
    "        if char in vwls:\n",
    "            num +=1\n",
    "    return num"
   ]
  },
  {
   "cell_type": "code",
   "execution_count": 14,
   "id": "0f236fd4-99f3-438e-b51b-08db1697f4d2",
   "metadata": {},
   "outputs": [],
   "source": [
    "def list_merger(lst_1,lst_2):\n",
    "    for item in lst_2:\n",
    "        if not item in lst_1:\n",
    "            lst_1.append(item)\n",
    "    return lst_1"
   ]
  },
  {
   "cell_type": "code",
   "execution_count": 16,
   "id": "2725f533-f8f9-40d3-928a-ed656ff6c06b",
   "metadata": {},
   "outputs": [
    {
     "data": {
      "text/plain": [
       "[1, 2, 3, 4, 5, 6, 'w', 'r', 'y', 7, 8, 9, 'l', 'o', 'p']"
      ]
     },
     "execution_count": 16,
     "metadata": {},
     "output_type": "execute_result"
    }
   ],
   "source": [
    "l1 = [1,2,3,4,5,6,'w','r','y']\n",
    "l2 = [1,2,3,4,5,6,7,8,9,'l','o','p','w','r','y']\n",
    "list_merger(l1,l2)"
   ]
  },
  {
   "cell_type": "code",
   "execution_count": null,
   "id": "2deddfbd-c4bc-413f-8473-9939d9d1abb1",
   "metadata": {},
   "outputs": [],
   "source": []
  }
 ],
 "metadata": {
  "kernelspec": {
   "display_name": "Python 3 (ipykernel)",
   "language": "python",
   "name": "python3"
  },
  "language_info": {
   "codemirror_mode": {
    "name": "ipython",
    "version": 3
   },
   "file_extension": ".py",
   "mimetype": "text/x-python",
   "name": "python",
   "nbconvert_exporter": "python",
   "pygments_lexer": "ipython3",
   "version": "3.12.4"
  }
 },
 "nbformat": 4,
 "nbformat_minor": 5
}
