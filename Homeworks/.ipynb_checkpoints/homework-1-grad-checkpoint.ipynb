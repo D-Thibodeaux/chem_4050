{
 "cells": [
  {
   "cell_type": "code",
   "execution_count": 1,
   "id": "5b93d38b-e89d-4c97-a174-88f0913199d1",
   "metadata": {},
   "outputs": [],
   "source": [
    "import pandas as pd\n",
    "import numpy as np\n",
    "import matplotlib.pyplot as plt"
   ]
  },
  {
   "cell_type": "code",
   "execution_count": null,
   "id": "4d506ec6-7bb1-4a55-a7c8-2b51d9063d9e",
   "metadata": {},
   "outputs": [],
   "source": [
    "h = 1.0\n",
    "m = 1.0\n"
   ]
  }
 ],
 "metadata": {
  "kernelspec": {
   "display_name": "Python 3 (ipykernel)",
   "language": "python",
   "name": "python3"
  },
  "language_info": {
   "codemirror_mode": {
    "name": "ipython",
    "version": 3
   },
   "file_extension": ".py",
   "mimetype": "text/x-python",
   "name": "python",
   "nbconvert_exporter": "python",
   "pygments_lexer": "ipython3",
   "version": "3.12.4"
  }
 },
 "nbformat": 4,
 "nbformat_minor": 5
}
