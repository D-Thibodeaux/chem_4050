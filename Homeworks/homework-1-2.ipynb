{
 "cells": [
  {
   "cell_type": "code",
   "execution_count": 1,
   "id": "af4d0a05-536e-4ac3-b684-9e9df37f8c65",
   "metadata": {},
   "outputs": [],
   "source": [
    "#import packages used for this assignment\n",
    "import pandas as pd\n",
    "import numpy as np\n",
    "import matplotlib.pyplot as plt"
   ]
  },
  {
   "cell_type": "code",
   "execution_count": 3,
   "id": "3f008acd-71e9-4633-bdc9-7d2ffd549dcd",
   "metadata": {},
   "outputs": [
    {
     "name": "stdout",
     "output_type": "stream",
     "text": [
      "{'H1': [0.0, 0.0, 0.0], 'H2': [0.0, 0.0, 0.7414]}\n",
      "{'O': [0.0, 0.0, 0.1173], 'H1': [0.0, 0.7572, -0.4692], 'H2': [0.0, -0.7572, -0.4692]}\n",
      "{'C1': [0.0, 1.397, 0.0], 'C2': [1.2098, 0.6985, 0.0], 'C3': [1.2098, -0.6985, 0.0], 'C4': [0.0, -1.397, 0.0], 'C5': [-1.2098, -0.6985, 0.0], 'C6': [-1.2098, 0.6985, 0.0], 'H1': [0.0, 2.481, 0.0], 'H2': [2.1486, 1.2405, 0.0], 'H3': [2.1486, -1.2405, 0.0], 'H4': [0.0, -2.481, 0.0], 'H5': [-2.1486, -1.2405, 0.0], 'H6': [-2.1486, 1.2405, 0.0]}\n"
     ]
    }
   ],
   "source": [
    "# Set coordinates for Molecules used in this assignment\n",
    "\n",
    "H2 = {\n",
    "    \"H1\" : [0.0000,\t0.0000,\t0.0000],\n",
    "    \"H2\" : [0.0000,\t0.0000,\t0.7414]\n",
    "}\n",
    "\n",
    "H2O = {\n",
    "    \"O\" : [0.0000,\t0.0000,\t0.1173],\n",
    "    \"H1\" : [0.0000,\t0.7572,\t-0.4692],\n",
    "    \"H2\" : [0.0000,\t-0.7572, -0.4692]\n",
    "}\n",
    "\n",
    "benzene = {\n",
    "    \"C1\" : [0.0000, 1.3970, 0.0000],\n",
    "    \"C2\" : [1.2098, 0.6985, 0.0000],\n",
    "    \"C3\" : [1.2098, -0.6985, 0.0000],\n",
    "    \"C4\" : [0.0000, -1.3970, 0.0000],\n",
    "    \"C5\" : [-1.2098, -0.6985, 0.0000],\n",
    "    \"C6\" : [-1.2098, 0.6985, 0.0000],\n",
    "    \"H1\" : [0.0000, 2.4810, 0.0000],\n",
    "    \"H2\" : [2.1486, 1.2405, 0.0000],\n",
    "    \"H3\" : [2.1486, -1.2405, 0.0000],\n",
    "    \"H4\" : [0.0000, -2.4810, 0.0000],\n",
    "    \"H5\" : [-2.1486, -1.2405, 0.0000],\n",
    "    \"H6\" : [-2.1486, 1.2405, 0.0000]\n",
    "}\n",
    "\n",
    "print(H2)\n",
    "print(H2O)\n",
    "print(benzene)"
   ]
  },
  {
   "cell_type": "code",
   "execution_count": 6,
   "id": "6f55e188",
   "metadata": {},
   "outputs": [
    {
     "name": "stdout",
     "output_type": "stream",
     "text": [
      "1.7320508075688772\n",
      "1.7320508075688772\n",
      "Warning: bond distance is greater than is expected for a covalent bond\n",
      "3.4641016151377544\n"
     ]
    }
   ],
   "source": [
    "#define function to calculate distance given 2 3D points\n",
    "def dist(pt1, pt2):\n",
    "    #define vector from point 1 to point 2\n",
    "    dst = np.array(pt2)-np.array(pt1)\n",
    "\n",
    "    #find magnitude of vector\n",
    "    dst = np.sqrt(dst.dot(dst))\n",
    "\n",
    "    #print warning if distance if over 2\n",
    "    if dst > 2:\n",
    "        print(\"Warning: bond distance is greater than is expected for a covalent bond\")\n",
    "        return dst\n",
    "    else:\n",
    "        return dst\n",
    "    \n",
    "# test function \n",
    "print(dist([0,0,0], [1,1,1]))\n",
    "print(np.sqrt(3), '\\n')\n",
    "\n",
    "print(dist([0,0,0], [2,2,2]))\n"
   ]
  },
  {
   "cell_type": "code",
   "execution_count": null,
   "id": "d4fae300-2aa8-45fd-82b8-5befaebfe3a1",
   "metadata": {},
   "outputs": [],
   "source": []
  }
 ],
 "metadata": {
  "kernelspec": {
   "display_name": "Python 3 (ipykernel)",
   "language": "python",
   "name": "python3"
  },
  "language_info": {
   "codemirror_mode": {
    "name": "ipython",
    "version": 3
   },
   "file_extension": ".py",
   "mimetype": "text/x-python",
   "name": "python",
   "nbconvert_exporter": "python",
   "pygments_lexer": "ipython3",
   "version": "3.12.4"
  }
 },
 "nbformat": 4,
 "nbformat_minor": 5
}
